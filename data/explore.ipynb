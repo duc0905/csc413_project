{
 "cells": [
  {
   "cell_type": "markdown",
   "id": "ed0f12dc-a91c-41d5-81cd-99c848043742",
   "metadata": {},
   "source": [
    "# Data explorer"
   ]
  },
  {
   "cell_type": "markdown",
   "id": "d3bb0cdd-f273-409b-afe7-a8c3e2e71720",
   "metadata": {},
   "source": [
    "## Libraries"
   ]
  },
  {
   "cell_type": "code",
   "execution_count": 1,
   "id": "0fb7bb6a-2070-451c-9020-05daed97f91f",
   "metadata": {},
   "outputs": [],
   "source": [
    "import pandas as pd"
   ]
  },
  {
   "cell_type": "markdown",
   "id": "4eb8609b-9e34-4789-b34c-c639280e4fd4",
   "metadata": {},
   "source": [
    "## Read data"
   ]
  },
  {
   "cell_type": "code",
   "execution_count": 2,
   "id": "f176d018-230b-4d20-b724-24fc0923f1d7",
   "metadata": {},
   "outputs": [],
   "source": [
    "meta = pd.read_csv(\"./metadata_modelnet40.csv\")"
   ]
  },
  {
   "cell_type": "code",
   "execution_count": 3,
   "id": "e9856622-0606-4552-ac02-983b3646f4e6",
   "metadata": {},
   "outputs": [
    {
     "name": "stdout",
     "output_type": "stream",
     "text": [
      "<class 'pandas.core.frame.DataFrame'>\n",
      "RangeIndex: 12311 entries, 0 to 12310\n",
      "Data columns (total 4 columns):\n",
      " #   Column       Non-Null Count  Dtype \n",
      "---  ------       --------------  ----- \n",
      " 0   object_id    12311 non-null  object\n",
      " 1   class        12311 non-null  object\n",
      " 2   split        12311 non-null  object\n",
      " 3   object_path  12311 non-null  object\n",
      "dtypes: object(4)\n",
      "memory usage: 384.8+ KB\n"
     ]
    }
   ],
   "source": [
    "meta.info()"
   ]
  },
  {
   "cell_type": "code",
   "execution_count": 4,
   "id": "2692d131-1577-43d5-ba88-f3e65980f584",
   "metadata": {},
   "outputs": [
    {
     "data": {
      "text/html": [
       "<div>\n",
       "<style scoped>\n",
       "    .dataframe tbody tr th:only-of-type {\n",
       "        vertical-align: middle;\n",
       "    }\n",
       "\n",
       "    .dataframe tbody tr th {\n",
       "        vertical-align: top;\n",
       "    }\n",
       "\n",
       "    .dataframe thead th {\n",
       "        text-align: right;\n",
       "    }\n",
       "</style>\n",
       "<table border=\"1\" class=\"dataframe\">\n",
       "  <thead>\n",
       "    <tr style=\"text-align: right;\">\n",
       "      <th></th>\n",
       "      <th>object_id</th>\n",
       "      <th>class</th>\n",
       "      <th>split</th>\n",
       "      <th>object_path</th>\n",
       "    </tr>\n",
       "  </thead>\n",
       "  <tbody>\n",
       "    <tr>\n",
       "      <th>0</th>\n",
       "      <td>airplane_0627</td>\n",
       "      <td>airplane</td>\n",
       "      <td>test</td>\n",
       "      <td>airplane/test/airplane_0627.off</td>\n",
       "    </tr>\n",
       "    <tr>\n",
       "      <th>1</th>\n",
       "      <td>airplane_0628</td>\n",
       "      <td>airplane</td>\n",
       "      <td>test</td>\n",
       "      <td>airplane/test/airplane_0628.off</td>\n",
       "    </tr>\n",
       "    <tr>\n",
       "      <th>2</th>\n",
       "      <td>airplane_0629</td>\n",
       "      <td>airplane</td>\n",
       "      <td>test</td>\n",
       "      <td>airplane/test/airplane_0629.off</td>\n",
       "    </tr>\n",
       "    <tr>\n",
       "      <th>3</th>\n",
       "      <td>airplane_0630</td>\n",
       "      <td>airplane</td>\n",
       "      <td>test</td>\n",
       "      <td>airplane/test/airplane_0630.off</td>\n",
       "    </tr>\n",
       "    <tr>\n",
       "      <th>4</th>\n",
       "      <td>airplane_0631</td>\n",
       "      <td>airplane</td>\n",
       "      <td>test</td>\n",
       "      <td>airplane/test/airplane_0631.off</td>\n",
       "    </tr>\n",
       "    <tr>\n",
       "      <th>5</th>\n",
       "      <td>airplane_0632</td>\n",
       "      <td>airplane</td>\n",
       "      <td>test</td>\n",
       "      <td>airplane/test/airplane_0632.off</td>\n",
       "    </tr>\n",
       "    <tr>\n",
       "      <th>6</th>\n",
       "      <td>airplane_0633</td>\n",
       "      <td>airplane</td>\n",
       "      <td>test</td>\n",
       "      <td>airplane/test/airplane_0633.off</td>\n",
       "    </tr>\n",
       "    <tr>\n",
       "      <th>7</th>\n",
       "      <td>airplane_0634</td>\n",
       "      <td>airplane</td>\n",
       "      <td>test</td>\n",
       "      <td>airplane/test/airplane_0634.off</td>\n",
       "    </tr>\n",
       "    <tr>\n",
       "      <th>8</th>\n",
       "      <td>airplane_0635</td>\n",
       "      <td>airplane</td>\n",
       "      <td>test</td>\n",
       "      <td>airplane/test/airplane_0635.off</td>\n",
       "    </tr>\n",
       "    <tr>\n",
       "      <th>9</th>\n",
       "      <td>airplane_0636</td>\n",
       "      <td>airplane</td>\n",
       "      <td>test</td>\n",
       "      <td>airplane/test/airplane_0636.off</td>\n",
       "    </tr>\n",
       "  </tbody>\n",
       "</table>\n",
       "</div>"
      ],
      "text/plain": [
       "       object_id     class split                      object_path\n",
       "0  airplane_0627  airplane  test  airplane/test/airplane_0627.off\n",
       "1  airplane_0628  airplane  test  airplane/test/airplane_0628.off\n",
       "2  airplane_0629  airplane  test  airplane/test/airplane_0629.off\n",
       "3  airplane_0630  airplane  test  airplane/test/airplane_0630.off\n",
       "4  airplane_0631  airplane  test  airplane/test/airplane_0631.off\n",
       "5  airplane_0632  airplane  test  airplane/test/airplane_0632.off\n",
       "6  airplane_0633  airplane  test  airplane/test/airplane_0633.off\n",
       "7  airplane_0634  airplane  test  airplane/test/airplane_0634.off\n",
       "8  airplane_0635  airplane  test  airplane/test/airplane_0635.off\n",
       "9  airplane_0636  airplane  test  airplane/test/airplane_0636.off"
      ]
     },
     "execution_count": 4,
     "metadata": {},
     "output_type": "execute_result"
    }
   ],
   "source": [
    "meta.head(10)"
   ]
  },
  {
   "cell_type": "markdown",
   "id": "20a2f8be-c6af-4b75-8890-b282a7b60753",
   "metadata": {},
   "source": [
    "## Look around"
   ]
  },
  {
   "cell_type": "code",
   "execution_count": 24,
   "id": "162c8072-e3a4-4874-b061-0afb2d2d1d39",
   "metadata": {},
   "outputs": [
    {
     "data": {
      "text/html": [
       "<div>\n",
       "<style scoped>\n",
       "    .dataframe tbody tr th:only-of-type {\n",
       "        vertical-align: middle;\n",
       "    }\n",
       "\n",
       "    .dataframe tbody tr th {\n",
       "        vertical-align: top;\n",
       "    }\n",
       "\n",
       "    .dataframe thead th {\n",
       "        text-align: right;\n",
       "    }\n",
       "</style>\n",
       "<table border=\"1\" class=\"dataframe\">\n",
       "  <thead>\n",
       "    <tr style=\"text-align: right;\">\n",
       "      <th></th>\n",
       "      <th>object_id</th>\n",
       "      <th>class</th>\n",
       "      <th>object_path</th>\n",
       "    </tr>\n",
       "  </thead>\n",
       "  <tbody>\n",
       "    <tr>\n",
       "      <th>3278</th>\n",
       "      <td>chair_0001</td>\n",
       "      <td>chair</td>\n",
       "      <td>chair/train/chair_0001.off</td>\n",
       "    </tr>\n",
       "    <tr>\n",
       "      <th>3279</th>\n",
       "      <td>chair_0002</td>\n",
       "      <td>chair</td>\n",
       "      <td>chair/train/chair_0002.off</td>\n",
       "    </tr>\n",
       "    <tr>\n",
       "      <th>3280</th>\n",
       "      <td>chair_0003</td>\n",
       "      <td>chair</td>\n",
       "      <td>chair/train/chair_0003.off</td>\n",
       "    </tr>\n",
       "    <tr>\n",
       "      <th>3281</th>\n",
       "      <td>chair_0004</td>\n",
       "      <td>chair</td>\n",
       "      <td>chair/train/chair_0004.off</td>\n",
       "    </tr>\n",
       "    <tr>\n",
       "      <th>3282</th>\n",
       "      <td>chair_0005</td>\n",
       "      <td>chair</td>\n",
       "      <td>chair/train/chair_0005.off</td>\n",
       "    </tr>\n",
       "    <tr>\n",
       "      <th>...</th>\n",
       "      <td>...</td>\n",
       "      <td>...</td>\n",
       "      <td>...</td>\n",
       "    </tr>\n",
       "    <tr>\n",
       "      <th>4162</th>\n",
       "      <td>chair_0885</td>\n",
       "      <td>chair</td>\n",
       "      <td>chair/train/chair_0885.off</td>\n",
       "    </tr>\n",
       "    <tr>\n",
       "      <th>4163</th>\n",
       "      <td>chair_0886</td>\n",
       "      <td>chair</td>\n",
       "      <td>chair/train/chair_0886.off</td>\n",
       "    </tr>\n",
       "    <tr>\n",
       "      <th>4164</th>\n",
       "      <td>chair_0887</td>\n",
       "      <td>chair</td>\n",
       "      <td>chair/train/chair_0887.off</td>\n",
       "    </tr>\n",
       "    <tr>\n",
       "      <th>4165</th>\n",
       "      <td>chair_0888</td>\n",
       "      <td>chair</td>\n",
       "      <td>chair/train/chair_0888.off</td>\n",
       "    </tr>\n",
       "    <tr>\n",
       "      <th>4166</th>\n",
       "      <td>chair_0889</td>\n",
       "      <td>chair</td>\n",
       "      <td>chair/train/chair_0889.off</td>\n",
       "    </tr>\n",
       "  </tbody>\n",
       "</table>\n",
       "<p>889 rows × 3 columns</p>\n",
       "</div>"
      ],
      "text/plain": [
       "       object_id  class                 object_path\n",
       "3278  chair_0001  chair  chair/train/chair_0001.off\n",
       "3279  chair_0002  chair  chair/train/chair_0002.off\n",
       "3280  chair_0003  chair  chair/train/chair_0003.off\n",
       "3281  chair_0004  chair  chair/train/chair_0004.off\n",
       "3282  chair_0005  chair  chair/train/chair_0005.off\n",
       "...          ...    ...                         ...\n",
       "4162  chair_0885  chair  chair/train/chair_0885.off\n",
       "4163  chair_0886  chair  chair/train/chair_0886.off\n",
       "4164  chair_0887  chair  chair/train/chair_0887.off\n",
       "4165  chair_0888  chair  chair/train/chair_0888.off\n",
       "4166  chair_0889  chair  chair/train/chair_0889.off\n",
       "\n",
       "[889 rows x 3 columns]"
      ]
     },
     "execution_count": 24,
     "metadata": {},
     "output_type": "execute_result"
    }
   ],
   "source": [
    "chairs = meta[(meta[\"class\"] == \"chair\") & (meta[\"split\"] == \"train\")][[\"object_id\", \"class\", \"object_path\"]]\n",
    "chairs"
   ]
  },
  {
   "cell_type": "code",
   "execution_count": 25,
   "id": "21d77232-8a44-41a7-87f0-6ac6b0a0e248",
   "metadata": {},
   "outputs": [
    {
     "data": {
      "text/plain": [
       "(889, 3)"
      ]
     },
     "execution_count": 25,
     "metadata": {},
     "output_type": "execute_result"
    }
   ],
   "source": [
    "chairs.shape"
   ]
  },
  {
   "cell_type": "code",
   "execution_count": 14,
   "id": "710fda17-3ab5-4aa9-8c80-9fde1bda31ee",
   "metadata": {},
   "outputs": [
    {
     "name": "stdout",
     "output_type": "stream",
     "text": [
      "                 object_id  object_path\n",
      "class     split                        \n",
      "airplane  test         100          100\n",
      "          train        626          626\n",
      "bathtub   test          50           50\n",
      "          train        106          106\n",
      "bed       test         100          100\n",
      "          train        515          515\n",
      "bench     test          20           20\n",
      "          train        173          173\n",
      "bookshelf test         100          100\n",
      "          train        572          572\n",
      "bottle    test         100          100\n",
      "          train        335          335\n",
      "bowl      test          20           20\n",
      "          train         64           64\n",
      "car       test         100          100\n",
      "          train        197          197\n",
      "chair     test         100          100\n",
      "          train        889          889\n",
      "cone      test          20           20\n",
      "          train        167          167\n",
      "cup       test          20           20\n",
      "          train         79           79\n",
      "curtain   test          20           20\n",
      "          train        138          138\n",
      "desk      test          86           86\n",
      "          train        200          200\n",
      "door      test          20           20\n",
      "          train        109          109\n",
      "dresser   test          86           86\n",
      "          train        200          200\n",
      "flower    test          20           20\n",
      "          train        149          149\n",
      "glass     test         100          100\n",
      "          train        171          171\n",
      "guitar    test         100          100\n",
      "          train        155          155\n",
      "keyboard  test          20           20\n",
      "          train        145          145\n",
      "lamp      test          20           20\n",
      "          train        124          124\n",
      "laptop    test          20           20\n",
      "          train        149          149\n",
      "mantel    test         100          100\n",
      "          train        284          284\n",
      "monitor   test         100          100\n",
      "          train        465          465\n",
      "night     test          86           86\n",
      "          train        200          200\n",
      "person    test          20           20\n",
      "          train         88           88\n",
      "piano     test         100          100\n",
      "          train        231          231\n",
      "plant     test         100          100\n",
      "          train        240          240\n",
      "radio     test          20           20\n",
      "          train        104          104\n",
      "range     test         100          100\n",
      "          train        115          115\n",
      "sink      test          20           20\n",
      "          train        128          128\n",
      "sofa      test         100          100\n",
      "          train        680          680\n",
      "stairs    test          20           20\n",
      "          train        124          124\n",
      "stool     test          20           20\n",
      "          train         90           90\n",
      "table     test         100          100\n",
      "          train        392          392\n",
      "tent      test          20           20\n",
      "          train        163          163\n",
      "toilet    test         100          100\n",
      "          train        344          344\n",
      "tv        test         100          100\n",
      "          train        267          267\n",
      "vase      test         100          100\n",
      "          train        475          475\n",
      "wardrobe  test          20           20\n",
      "          train         87           87\n",
      "xbox      test          20           20\n",
      "          train        103          103\n"
     ]
    }
   ],
   "source": [
    "print(meta.groupby([\"class\", \"split\"]).count().to_string())"
   ]
  },
  {
   "cell_type": "code",
   "execution_count": null,
   "id": "53217ca9-9480-45b4-a521-bc5cede536ac",
   "metadata": {},
   "outputs": [],
   "source": []
  }
 ],
 "metadata": {
  "kernelspec": {
   "display_name": "Python 3 (ipykernel)",
   "language": "python",
   "name": "python3"
  },
  "language_info": {
   "codemirror_mode": {
    "name": "ipython",
    "version": 3
   },
   "file_extension": ".py",
   "mimetype": "text/x-python",
   "name": "python",
   "nbconvert_exporter": "python",
   "pygments_lexer": "ipython3",
   "version": "3.11.1"
  }
 },
 "nbformat": 4,
 "nbformat_minor": 5
}
